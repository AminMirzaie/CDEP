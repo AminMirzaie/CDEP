{
 "cells": [
  {
   "cell_type": "markdown",
   "id": "847da2eb-4e19-4e20-9dac-62d85b763876",
   "metadata": {},
   "source": [
    "# Run this jupyter notebook step by step (this note book is for ISIC skin cancer)"
   ]
  },
  {
   "cell_type": "markdown",
   "id": "420404e9-49dd-4a40-846b-329212460cd1",
   "metadata": {},
   "source": [
    "first, create conda environment with containing Python using following command:\n",
    "```\n",
    "in terminal:\n",
    "conda create -n CDEP python\n",
    "```\n",
    "Enter 'y' in install packages and then enter the created enviroment using this command:\n",
    "```\n",
    "conda activate CDEP\n",
    "```\n",
    "then run the following commands to install ipykernel ,so you can specify in the jupyter notebook to use CDEP enviroment as kernel:\n",
    "```\n",
    "pip install ipykernel\n",
    "python -m ipykernel install --user --name CDEP --display-name \"CDEP\"\n",
    "```\n",
    "then in this jupyter notebook in kernel click change kernel and select CDEP"
   ]
  },
  {
   "cell_type": "markdown",
   "id": "3c46a907-624b-4a77-ba5a-3a70757c741c",
   "metadata": {},
   "source": [
    "# install the following packages in the terminal\n",
    "first, enter the CDEP environment using the following command:\n",
    "```\n",
    "conda activate CDEP\n",
    "```\n",
    "and run the following commands to install the required libraries (run one by one):\n",
    "```\n",
    "pip install requests\n",
    "pip install tqdm\n",
    "conda install -c conda-forge ipywidgets\n",
    "pip install jupyter_contrib_nbextensions\n",
    "conda install pandas\n",
    "```"
   ]
  },
  {
   "cell_type": "markdown",
   "id": "1e37a711-4d08-4bad-afc7-725a073b454a",
   "metadata": {},
   "source": [
    "# then run the following code to import libraries:"
   ]
  },
  {
   "cell_type": "code",
   "execution_count": 6,
   "id": "85c8384a-05e0-4c5d-93eb-8258383d9537",
   "metadata": {},
   "outputs": [
    {
     "name": "stdout",
     "output_type": "stream",
     "text": [
      "The autoreload extension is already loaded. To reload it, use:\n",
      "  %reload_ext autoreload\n"
     ]
    }
   ],
   "source": [
    "%load_ext autoreload\n",
    "\n",
    "%autoreload 2\n",
    "from isic_api import ISICApi\n",
    "import os\n",
    "import json\n",
    "import csv\n",
    "from tqdm.autonotebook import tqdm\n",
    "with open('config.json') as json_file:\n",
    "    data = json.load(json_file)\n",
    "\n",
    "import pandas as pd\n",
    "import numpy as np"
   ]
  },
  {
   "cell_type": "markdown",
   "id": "7bf5825f-84cf-4c06-a1a6-3ac237472887",
   "metadata": {},
   "source": [
    "# Run this code to get the data meta data related to first 1000 images of skin data:\n",
    "At the end of this code you should have imageList contating the metadatas of 1007 malignant images and 2367 benign images.\n",
    "after running this you should see meta_random.csv file in following directory: data/ISIC/"
   ]
  },
  {
   "cell_type": "code",
   "execution_count": 50,
   "id": "27bab7da-323c-4ff9-9ae4-239ff06f5f21",
   "metadata": {},
   "outputs": [
    {
     "name": "stdout",
     "output_type": "stream",
     "text": [
      "number of malignant images that fetched from API: 7\n",
      "number of malignant images that fetched from API: 12\n",
      "number of malignant images that fetched from API: 12\n",
      "number of malignant images that fetched from API: 12\n",
      "number of malignant images that fetched from API: 17\n",
      "number of malignant images that fetched from API: 27\n",
      "number of malignant images that fetched from API: 36\n",
      "number of malignant images that fetched from API: 74\n",
      "number of malignant images that fetched from API: 113\n",
      "number of malignant images that fetched from API: 180\n",
      "number of malignant images that fetched from API: 247\n",
      "number of malignant images that fetched from API: 307\n",
      "number of malignant images that fetched from API: 336\n",
      "number of malignant images that fetched from API: 401\n",
      "number of malignant images that fetched from API: 459\n",
      "number of malignant images that fetched from API: 521\n",
      "number of malignant images that fetched from API: 555\n",
      "number of malignant images that fetched from API: 576\n",
      "number of malignant images that fetched from API: 596\n",
      "number of malignant images that fetched from API: 630\n",
      "number of malignant images that fetched from API: 682\n",
      "number of malignant images that fetched from API: 693\n",
      "number of malignant images that fetched from API: 709\n",
      "number of malignant images that fetched from API: 776\n",
      "number of malignant images that fetched from API: 856\n",
      "number of malignant images that fetched from API: 880\n",
      "number of malignant images that fetched from API: 897\n",
      "number of malignant images that fetched from API: 913\n",
      "number of malignant images that fetched from API: 937\n",
      "number of malignant images that fetched from API: 953\n",
      "number of malignant images that fetched from API: 966\n",
      "number of malignant images that fetched from API: 974\n",
      "number of malignant images that fetched from API: 981\n",
      "number of malignant images that fetched from API: 997\n",
      "number of malignant images that fetched from API: 1007\n",
      "Writing metadata to CSV: meta_random.csv\n",
      "benign_malignant\n",
      "benign                     2367\n",
      "malignant                  1007\n",
      "indeterminate/benign         35\n",
      "indeterminate/malignant      27\n",
      "indeterminate                20\n",
      "Name: count, dtype: int64\n"
     ]
    }
   ],
   "source": [
    "def count_malignant(imageList):\n",
    "    malignant = 0\n",
    "    for data in imageList:\n",
    "        if 'metadata' in data and 'clinical' in data['metadata'] and 'benign_malignant' in data['metadata']['clinical']:\n",
    "            if data['metadata']['clinical']['benign_malignant'] == 'malignant':\n",
    "                malignant+=1\n",
    "    return malignant\n",
    "\n",
    "api = ISICApi(username=None, password=None)\n",
    "data_path = data[\"data_folder\"]\n",
    "# num_imgs = data[\"num_imgs\"]\n",
    "\n",
    "if not os.path.exists(data_path):\n",
    "    os.makedirs(data_path)\n",
    "imageList = []\n",
    "count = 0\n",
    "malignants  = 0\n",
    "while malignants < 1000:\n",
    "    if count == 0:\n",
    "        temp = api.getJson('images/?limit=' + str(num_imgs) +'&offset=0&sort=name')\n",
    "        imageList = temp['results']\n",
    "        next_page = temp['next'].split(\"images\")[1]\n",
    "        malignants += count_malignant(imageList)\n",
    "    else:\n",
    "        temp = api.getJson('images' + next_page)\n",
    "        imageList = imageList + temp['results']\n",
    "        next_page = temp['next'].split(\"images\")[1]\n",
    "        malignants += count_malignant(temp['results'])\n",
    "    print(f\"number of malignant images that fetched from API: {malignants}\")\n",
    "    count+=1\n",
    "\n",
    "# Determine the union of all image metadata fields\n",
    "metadataFields = set(\n",
    "        field\n",
    "        for imageL in imageList\n",
    "        for field in imageL['metadata']['clinical'].keys()\n",
    "    )\n",
    "\n",
    "\n",
    "metadataFields = ['isic_id'] + sorted(metadataFields)\n",
    "outputFileName = \"meta_random\"\n",
    "#%%\n",
    "outputFilePath = os.path.join(data_path, outputFileName)\n",
    "# Write the metadata to a CSV\n",
    "print('Writing metadata to CSV: %s' % outputFileName+'.csv')\n",
    "with open(outputFilePath+'.csv', 'w') as outputStream:\n",
    "    csvWriter = csv.DictWriter(outputStream, metadataFields)\n",
    "    csvWriter.writeheader()\n",
    "    for imageL in imageList:\n",
    "        rowDict = imageL['metadata']['clinical'].copy()\n",
    "        rowDict['isic_id'] = imageL['isic_id']\n",
    "        csvWriter.writerow(rowDict)\n",
    "df = pd.read_csv('../../data/ISIC/meta_random.csv')\n",
    "print(df.benign_malignant.value_counts())\n",
    "del df"
   ]
  },
  {
   "cell_type": "code",
   "execution_count": null,
   "id": "93d9d20f-3823-4297-9a33-f3c5778b2b3f",
   "metadata": {},
   "outputs": [],
   "source": []
  }
 ],
 "metadata": {
  "kernelspec": {
   "display_name": "CDEP",
   "language": "python",
   "name": "cdep"
  },
  "language_info": {
   "codemirror_mode": {
    "name": "ipython",
    "version": 3
   },
   "file_extension": ".py",
   "mimetype": "text/x-python",
   "name": "python",
   "nbconvert_exporter": "python",
   "pygments_lexer": "ipython3",
   "version": "3.12.3"
  }
 },
 "nbformat": 4,
 "nbformat_minor": 5
}
