{
 "cells": [
  {
   "cell_type": "markdown",
   "id": "847da2eb-4e19-4e20-9dac-62d85b763876",
   "metadata": {},
   "source": [
    "# Run this jupyter notebook step by step (this note book is for ISIC skin cancer)"
   ]
  },
  {
   "cell_type": "markdown",
   "id": "420404e9-49dd-4a40-846b-329212460cd1",
   "metadata": {},
   "source": [
    "first, create conda environment with containing Python using following command:\n",
    "```\n",
    "in terminal:\n",
    "conda create -n CDEP python\n",
    "```\n",
    "Enter 'y' in install packages and then enter the created enviroment using this command:\n",
    "```\n",
    "conda activate CDEP\n",
    "```\n",
    "then run the following commands to install ipykernel ,so you can specify in the jupyter notebook to use CDEP enviroment as kernel:\n",
    "```\n",
    "pip install ipykernel\n",
    "python -m ipykernel install --user --name CDEP --display-name \"CDEP\"\n",
    "```\n",
    "then in this jupyter notebook in kernel click change kernel and select CDEP"
   ]
  },
  {
   "cell_type": "markdown",
   "id": "3c46a907-624b-4a77-ba5a-3a70757c741c",
   "metadata": {},
   "source": [
    "# install the following packages in the terminal\n",
    "first, enter the CDEP environment using the following command:\n",
    "```\n",
    "conda activate CDEP\n",
    "```\n",
    "and run the following commands to install the required libraries (run one by one):\n",
    "```\n",
    "pip install requests\n",
    "pip install tqdm\n",
    "conda install -c conda-forge ipywidgets\n",
    "pip install jupyter_contrib_nbextensions\n",
    "conda install pandas\n",
    "```"
   ]
  },
  {
   "cell_type": "markdown",
   "id": "1e37a711-4d08-4bad-afc7-725a073b454a",
   "metadata": {},
   "source": [
    "# then run the following code to import libraries:"
   ]
  },
  {
   "cell_type": "code",
   "execution_count": 74,
   "id": "85c8384a-05e0-4c5d-93eb-8258383d9537",
   "metadata": {},
   "outputs": [
    {
     "name": "stdout",
     "output_type": "stream",
     "text": [
      "The autoreload extension is already loaded. To reload it, use:\n",
      "  %reload_ext autoreload\n"
     ]
    }
   ],
   "source": [
    "%load_ext autoreload\n",
    "\n",
    "%autoreload 2\n",
    "from isic_api import ISICApi\n",
    "import os\n",
    "import json\n",
    "import csv\n",
    "from tqdm.autonotebook import tqdm\n",
    "with open('config.json') as json_file:\n",
    "    data = json.load(json_file)\n",
    "\n",
    "import pandas as pd\n",
    "import numpy as np\n",
    "import requests\n",
    "from pathlib import Path"
   ]
  },
  {
   "cell_type": "markdown",
   "id": "7bf5825f-84cf-4c06-a1a6-3ac237472887",
   "metadata": {},
   "source": [
    "# Run this code to get the data meta data related to first 1000 images of skin data:\n",
    "At the end of this code you should have imageList contating the metadatas of 1007 malignant images and 2367 benign images.\n",
    "after running this you should see meta_random.csv file in following directory: data/ISIC/"
   ]
  },
  {
   "cell_type": "code",
   "execution_count": 66,
   "id": "27bab7da-323c-4ff9-9ae4-239ff06f5f21",
   "metadata": {},
   "outputs": [
    {
     "name": "stdout",
     "output_type": "stream",
     "text": [
      "number of malignant images that fetched from API: 7\n",
      "number of malignant images that fetched from API: 12\n",
      "number of malignant images that fetched from API: 12\n",
      "number of malignant images that fetched from API: 12\n",
      "number of malignant images that fetched from API: 17\n",
      "number of malignant images that fetched from API: 27\n",
      "number of malignant images that fetched from API: 36\n",
      "number of malignant images that fetched from API: 74\n",
      "number of malignant images that fetched from API: 113\n",
      "number of malignant images that fetched from API: 180\n",
      "number of malignant images that fetched from API: 247\n",
      "number of malignant images that fetched from API: 307\n",
      "number of malignant images that fetched from API: 336\n",
      "number of malignant images that fetched from API: 401\n",
      "number of malignant images that fetched from API: 459\n",
      "number of malignant images that fetched from API: 521\n",
      "number of malignant images that fetched from API: 555\n",
      "number of malignant images that fetched from API: 576\n",
      "number of malignant images that fetched from API: 596\n",
      "number of malignant images that fetched from API: 630\n",
      "number of malignant images that fetched from API: 682\n",
      "number of malignant images that fetched from API: 693\n",
      "number of malignant images that fetched from API: 709\n",
      "number of malignant images that fetched from API: 776\n",
      "number of malignant images that fetched from API: 856\n",
      "number of malignant images that fetched from API: 880\n",
      "number of malignant images that fetched from API: 897\n",
      "number of malignant images that fetched from API: 913\n",
      "number of malignant images that fetched from API: 937\n",
      "number of malignant images that fetched from API: 953\n",
      "number of malignant images that fetched from API: 966\n",
      "number of malignant images that fetched from API: 974\n",
      "number of malignant images that fetched from API: 981\n",
      "number of malignant images that fetched from API: 997\n",
      "number of malignant images that fetched from API: 1007\n"
     ]
    }
   ],
   "source": [
    "def count_malignant(imageList):\n",
    "    malignant = 0\n",
    "    for data in imageList:\n",
    "        if 'metadata' in data and 'clinical' in data['metadata'] and 'benign_malignant' in data['metadata']['clinical']:\n",
    "            if data['metadata']['clinical']['benign_malignant'] == 'malignant':\n",
    "                malignant+=1\n",
    "    return malignant\n",
    "\n",
    "api = ISICApi(username=None, password=None)\n",
    "data_path = data[\"data_folder\"]\n",
    "# num_imgs = data[\"num_imgs\"]\n",
    "\n",
    "if not os.path.exists(data_path):\n",
    "    os.makedirs(data_path)\n",
    "imageList = []\n",
    "count = 0\n",
    "malignants  = 0\n",
    "while malignants < 1000:\n",
    "    if count == 0:\n",
    "        temp = api.getJson('images/?limit=' + str(num_imgs) +'&offset=0&sort=name')\n",
    "        imageList = temp['results']\n",
    "        next_page = temp['next'].split(\"images\")[1]\n",
    "        malignants += count_malignant(imageList)\n",
    "    else:\n",
    "        temp = api.getJson('images' + next_page)\n",
    "        imageList = imageList + temp['results']\n",
    "        next_page = temp['next'].split(\"images\")[1]\n",
    "        malignants += count_malignant(temp['results'])\n",
    "    print(f\"number of malignant images that fetched from API: {malignants}\")\n",
    "    count+=1\n",
    "    \n",
    "# Determine the union of all image metadata fields\n",
    "metadataFields = set(\n",
    "        field\n",
    "        for imageL in imageList\n",
    "        for field in imageL['metadata']['clinical'].keys()\n",
    "    )\n",
    "\n",
    "\n",
    "metadataFields = ['isic_id'] + sorted(metadataFields)\n",
    "outputFileName = \"meta_random\"\n",
    "#%%\n",
    "outputFilePath = os.path.join(data_path, outputFileName)\n",
    "# Write the metadata to a CSV\n",
    "print('Writing metadata to CSV: %s' % outputFileName+'.csv')\n",
    "with open(outputFilePath+'.csv', 'w') as outputStream:\n",
    "    csvWriter = csv.DictWriter(outputStream, metadataFields)\n",
    "    csvWriter.writeheader()\n",
    "    for imageL in imageList:\n",
    "        rowDict = imageL['metadata']['clinical'].copy()\n",
    "        rowDict['isic_id'] = imageL['isic_id']\n",
    "        csvWriter.writerow(rowDict)\n",
    "df = pd.read_csv('../../data/ISIC/meta_random.csv')\n",
    "print(df.benign_malignant.value_counts())\n",
    "del df\n"
   ]
  },
  {
   "cell_type": "markdown",
   "id": "34562ce8-a87a-4dfd-9038-17e2b1aa85f8",
   "metadata": {},
   "source": [
    "# Now in the following code you want to download meta data of images that contain patches:\n",
    "(I only download 2000 images with patches)\n",
    "it take a little time to fetch all meta data"
   ]
  },
  {
   "cell_type": "code",
   "execution_count": 54,
   "id": "6a6c740d-609b-41d1-847e-6bd00963ab4f",
   "metadata": {},
   "outputs": [
    {
     "name": "stdout",
     "output_type": "stream",
     "text": [
      "Fetching metadata for noisy images\n"
     ]
    },
    {
     "data": {
      "application/vnd.jupyter.widget-view+json": {
       "model_id": "7108defdb768474b926ae2e6976466d8",
       "version_major": 2,
       "version_minor": 0
      },
      "text/plain": [
       "  0%|          | 0/2000 [00:00<?, ?it/s]"
      ]
     },
     "metadata": {},
     "output_type": "display_data"
    }
   ],
   "source": [
    "api = ISICApi(username=None, password=None)\n",
    "print('Fetching metadata for noisy images')\n",
    "imageDetails_noisy = []\n",
    "with open('./image_ids_patches.txt', 'r') as file:\n",
    "    lines = file.readlines()\n",
    "\n",
    "for line in tqdm(lines[:2000]):\n",
    "    temp = api.getJson('images/'+line.strip().split(\".\")[0]+\"/\")\n",
    "    imageDetail = api.getJson('images/%s' % temp['isic_id'])\n",
    "    imageDetails_noisy.append(imageDetail)"
   ]
  },
  {
   "cell_type": "markdown",
   "id": "c0c5c749-8f24-4a1e-91df-60b52cc46e73",
   "metadata": {
    "scrolled": true
   },
   "source": [
    "now save results to /data/ISIC/meta_patches.csv:"
   ]
  },
  {
   "cell_type": "code",
   "execution_count": 57,
   "id": "780f79dd-f99c-4618-911b-b6424c100ab6",
   "metadata": {},
   "outputs": [
    {
     "name": "stdout",
     "output_type": "stream",
     "text": [
      "Writing metadata to CSV: meta_patches.csv\n"
     ]
    }
   ],
   "source": [
    "metadataFields = set(\n",
    "        field\n",
    "        for imageDetail in imageDetails_noisy\n",
    "        for field in imageDetail['metadata']['clinical'].keys()\n",
    "    )\n",
    "\n",
    "\n",
    "metadataFields = ['isic_id'] + sorted(metadataFields)\n",
    "outputFileName = \"meta_patches\"\n",
    "#%%\n",
    "outputFilePath = os.path.join(data_path, outputFileName)\n",
    "# Write the metadata to a CSV\n",
    "print('Writing metadata to CSV: %s' % outputFileName+'.csv')\n",
    "with open(outputFilePath+'.csv', 'w') as outputStream:\n",
    "    csvWriter = csv.DictWriter(outputStream, metadataFields)\n",
    "    csvWriter.writeheader()\n",
    "    for imageDetail in imageDetails_noisy:\n",
    "        rowDict = imageDetail['metadata']['clinical'].copy()\n",
    "        rowDict['isic_id'] = imageDetail['isic_id']\n",
    "        csvWriter.writerow(rowDict)"
   ]
  },
  {
   "cell_type": "markdown",
   "id": "2971f230-b616-4c6c-9021-cc5511e4040f",
   "metadata": {},
   "source": [
    "# merge meta_patches.csv and meta_random.csv to single file --> meta.csv"
   ]
  },
  {
   "cell_type": "code",
   "execution_count": 59,
   "id": "17877d16-86f4-49e9-b177-d9efeb458d1f",
   "metadata": {},
   "outputs": [
    {
     "name": "stdout",
     "output_type": "stream",
     "text": [
      "Merged file saved as ../../data/ISIC/meta.csv\n"
     ]
    }
   ],
   "source": [
    "import pandas as pd\n",
    "\n",
    "file1 = '../../data/ISIC/meta_random.csv'\n",
    "file2 = '../../data/ISIC/meta_patches.csv'\n",
    "output_file = '../../data/ISIC/meta.csv'\n",
    "index_column = 'isic_id'\n",
    "df1 = pd.read_csv(file1)\n",
    "df2 = pd.read_csv(file2)\n",
    "\n",
    "if index_column not in df1.columns or index_column not in df2.columns:\n",
    "    raise ValueError(f\"Column '{index_column}' must exist in both CSV files\")\n",
    "df2_filtered = df2[~df2[index_column].isin(df1[index_column])]\n",
    "merged_df = pd.concat([df1, df2_filtered], ignore_index=True)\n",
    "merged_df.to_csv(output_file, index=False)\n",
    "merged_df.to_csv(output_file, index=False)\n",
    "\n",
    "print(f\"Merged file saved as {output_file}\")"
   ]
  },
  {
   "cell_type": "markdown",
   "id": "8f7e0a91-cc22-4a6a-803c-d0665982eeea",
   "metadata": {},
   "source": [
    "the final files that we should download in rest of codes is like this: (4367 benign and 1007 malignant)"
   ]
  },
  {
   "cell_type": "code",
   "execution_count": 61,
   "id": "43663f14-8d70-4ce5-a88a-000d3287e524",
   "metadata": {},
   "outputs": [
    {
     "name": "stdout",
     "output_type": "stream",
     "text": [
      "benign_malignant\n",
      "benign                     4367\n",
      "malignant                  1007\n",
      "indeterminate/benign         35\n",
      "indeterminate/malignant      27\n",
      "indeterminate                20\n",
      "Name: count, dtype: int64\n"
     ]
    }
   ],
   "source": [
    "df = pd.read_csv('../../data/ISIC/meta.csv')\n",
    "print(df.benign_malignant.value_counts())\n",
    "del df"
   ]
  },
  {
   "cell_type": "markdown",
   "id": "45fad23d-7c7f-4258-979f-538c78cfc7fe",
   "metadata": {},
   "source": [
    "# download images in meta.csv and save those in /data/ISIC/raw:\n",
    "it also take a lot of time (but wait until the end)"
   ]
  },
  {
   "cell_type": "code",
   "execution_count": 75,
   "id": "68920d3a-73d3-417c-b1fb-8f46a309f64c",
   "metadata": {
    "scrolled": true
   },
   "outputs": [
    {
     "data": {
      "application/vnd.jupyter.widget-view+json": {
       "model_id": "9ec6305b7c354f1db939a6f040a87de8",
       "version_major": 2,
       "version_minor": 0
      },
      "text/plain": [
       "  0%|          | 0/5500 [00:00<?, ?it/s]"
      ]
     },
     "metadata": {},
     "output_type": "display_data"
    }
   ],
   "source": [
    "imageDetails = imageList + imageDetails_noisy\n",
    "\n",
    "api = ISICApi(username=None, password=None)\n",
    "data_path = data[\"data_folder\"]\n",
    "savePath = os.path.join(data_path, 'raw')\n",
    "\n",
    "if not os.path.exists(savePath):\n",
    "    os.makedirs(savePath)\n",
    "\n",
    "for detail in tqdm(imageDetails):\n",
    "    url = detail['files']['full']['url']\n",
    "    img_data = requests.get(url).content\n",
    "    imageFileOutputPath = os.path.join(savePath, '%s.jpg' % detail['isic_id'])\n",
    "    if not(Path(imageFileOutputPath).exists()):\n",
    "        with open(imageFileOutputPath, 'wb') as imageFileOutputStream:\n",
    "            imageFileOutputStream.write(img_data)\n"
   ]
  },
  {
   "cell_type": "markdown",
   "id": "cc4aae9e-ab9d-49b2-b0f5-23b695c355ed",
   "metadata": {},
   "source": [
    "# run this for downloading the masks\n",
    "theese images show the patches in images using mask. after running the following cell u can look at them at /Data/ISIC/segmentation"
   ]
  },
  {
   "cell_type": "code",
   "execution_count": null,
   "id": "9f8f687c-56c6-4370-af95-bfe21cb32b4f",
   "metadata": {},
   "outputs": [],
   "source": []
  }
 ],
 "metadata": {
  "kernelspec": {
   "display_name": "CDEP",
   "language": "python",
   "name": "cdep"
  },
  "language_info": {
   "codemirror_mode": {
    "name": "ipython",
    "version": 3
   },
   "file_extension": ".py",
   "mimetype": "text/x-python",
   "name": "python",
   "nbconvert_exporter": "python",
   "pygments_lexer": "ipython3",
   "version": "3.12.3"
  }
 },
 "nbformat": 4,
 "nbformat_minor": 5
}
